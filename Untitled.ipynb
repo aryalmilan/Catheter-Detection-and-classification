{
 "cells": [
  {
   "cell_type": "code",
   "execution_count": 1,
   "id": "da6e5136",
   "metadata": {},
   "outputs": [],
   "source": [
    "# libraries\n",
    "import os\n",
    "import time\n",
    "import subprocess\n",
    "import numpy as np\n",
    "import pandas as pd\n",
    "import ast\n",
    "import cv2\n",
    "import PIL.Image\n",
    "import matplotlib.pyplot as plt\n",
    "%matplotlib inline\n",
    "import seaborn as sns\n",
    "import torch\n",
    "from torch.utils.data import TensorDataset, DataLoader, Dataset\n",
    "import torch.nn as nn\n",
    "import torch.nn.functional as F\n",
    "import torchvision.transforms as transforms\n",
    "import torch.optim as optim\n",
    "from torch.optim import lr_scheduler\n",
    "from torch.optim.lr_scheduler import StepLR, ReduceLROnPlateau, CosineAnnealingLR\n",
    "from warmup_scheduler import GradualWarmupScheduler\n",
    "import albumentations\n",
    "import torch.cuda.amp as amp\n",
    "import segmentation_models_pytorch as smp\n",
    "from tqdm import tqdm_notebook as tqdm\n",
    "\n",
    "scaler = amp.GradScaler()\n",
    "device = torch.device('cuda')"
   ]
  },
  {
   "cell_type": "code",
   "execution_count": 2,
   "id": "113e2e48",
   "metadata": {},
   "outputs": [],
   "source": [
    "DEBUG = False\n",
    "kernel_type = 'unet++b1_2cbce_1024T15tip_lr1e4_bs4_augv2_30epo'\n",
    "enet_type = 'timm-efficientnet-b1'\n",
    "data_dir = '../xray_image'\n",
    "num_workers = 8\n",
    "image_size = 512\n",
    "batch_size = 4\n",
    "init_lr = 1e-4\n",
    "warmup_epo = 1\n",
    "# If DEBUG == True, only run 3 epochs per fold\n",
    "cosine_epo = 15 if not DEBUG else 2\n",
    "n_epochs = warmup_epo + cosine_epo\n",
    "use_amp = True\n",
    "image_folder = 'train'\n",
    "\n",
    "log_dir = 'logs_GAN'\n",
    "model_dir = 'models_GAN'\n",
    "os.makedirs(log_dir, exist_ok=True)\n",
    "os.makedirs(model_dir, exist_ok=True)\n",
    "log_file = os.path.join(log_dir, f'log_{kernel_type}.txt')\n"
   ]
  },
  {
   "cell_type": "code",
   "execution_count": 3,
   "id": "22bfeaea",
   "metadata": {},
   "outputs": [
    {
     "data": {
      "text/plain": [
       "(30083, 12)"
      ]
     },
     "execution_count": 3,
     "metadata": {},
     "output_type": "execute_result"
    }
   ],
   "source": [
    "train_df = pd.read_csv(os.path.join(data_dir,'train.csv')).drop('PatientID', axis=1)\n",
    "train_df.shape"
   ]
  },
  {
   "cell_type": "code",
   "execution_count": 4,
   "id": "fb369995",
   "metadata": {},
   "outputs": [
    {
     "data": {
      "text/plain": [
       "(17999, 3)"
      ]
     },
     "execution_count": 4,
     "metadata": {},
     "output_type": "execute_result"
    }
   ],
   "source": [
    "train_df_annotations = pd.read_csv(os.path.join(data_dir,'train_annotations.csv'))\n",
    "train_df_annotations.shape"
   ]
  },
  {
   "cell_type": "code",
   "execution_count": 5,
   "id": "176d5c53",
   "metadata": {},
   "outputs": [],
   "source": [
    "transforms_train = albumentations.Compose([\n",
    "    albumentations.Resize(image_size, image_size),                                    \n",
    "    #albumentations.HorizontalFlip(p=0.5),\n",
    "    albumentations.RandomBrightness(limit=0.1, p=0.75),\n",
    "    albumentations.ShiftScaleRotate(shift_limit=0.2, scale_limit=0.2, rotate_limit=30, border_mode=0, p=0.75),\n",
    "    albumentations.Cutout(max_h_size=int(image_size * 0.3), max_w_size=int(image_size * 0.3), num_holes=1, p=0.75),\n",
    "])\n",
    "transforms_val = albumentations.Compose([\n",
    "    albumentations.Resize(image_size, image_size),\n",
    "])"
   ]
  },
  {
   "cell_type": "code",
   "execution_count": 6,
   "id": "e5e9e1c0",
   "metadata": {},
   "outputs": [],
   "source": [
    "class RANZCRDataset(Dataset):\n",
    "\n",
    "    def __init__(self,df, mode, transform=None):\n",
    "\n",
    "        self.df = df\n",
    "        self.mode = mode\n",
    "        self.transform = transform\n",
    "\n",
    "    def __len__(self):\n",
    "        return len(self.df)\n",
    "\n",
    "    def __getitem__(self, index):\n",
    "        image = cv2.imread(os.path.join(data_dir, image_folder, self.df[index] + '.jpg'))[:, :, ::-1]\n",
    "        \n",
    "        if self.mode == 'test':\n",
    "            mask = None\n",
    "            res = self.transform(image=image)\n",
    "        else:\n",
    "            df_this = train_df_annotations.query(f'StudyInstanceUID == \"{self.df[index]}\"')\n",
    "            mask = np.zeros((image.shape[0], image.shape[1], 1)).astype(np.uint8)\n",
    "            for _, anno in df_this.iterrows():\n",
    "                anno_this = np.array(ast.literal_eval(anno[\"data\"]))\n",
    "                mask1 = mask[:,:,0].copy()\n",
    "                mask1 = cv2.polylines(mask1, np.int32([anno_this]), isClosed=False, color=1, thickness=15, lineType=16)\n",
    "                mask[:, :, 0] = mask1\n",
    "            mask = (mask > 0.5).astype(np.uint8)\n",
    "            res = self.transform(image=image, mask=mask)\n",
    "            \n",
    "        image = res['image'].astype(np.float32).transpose(2, 0, 1) / 255.\n",
    "\n",
    "        if self.mode == 'test':\n",
    "            return torch.tensor(image)\n",
    "        else:\n",
    "            mask = res['mask'].astype(np.float32)\n",
    "            mask = mask.transpose(2, 0, 1).clip(0,1)\n",
    "            return torch.tensor(image), torch.tensor(mask)"
   ]
  },
  {
   "cell_type": "code",
   "execution_count": 7,
   "id": "3608fd84",
   "metadata": {},
   "outputs": [
    {
     "data": {
      "text/plain": [
       "9095"
      ]
     },
     "execution_count": 7,
     "metadata": {},
     "output_type": "execute_result"
    }
   ],
   "source": [
    "train_files = train_df_annotations['StudyInstanceUID'].unique()\n",
    "len(train_files)"
   ]
  },
  {
   "cell_type": "code",
   "execution_count": 8,
   "id": "3707b60e",
   "metadata": {},
   "outputs": [],
   "source": [
    "def visualize(**images):\n",
    "    \"\"\"PLot images in one row.\"\"\"\n",
    "    n = len(images)\n",
    "    plt.figure(figsize=(8, 8))\n",
    "    for i, (name, image) in enumerate(images.items()):\n",
    "        if image.shape[0] == 3:\n",
    "            image = image.numpy()\n",
    "            image = image.transpose((1,2,0))\n",
    "        elif image.shape[0] == 1:\n",
    "            image = image.numpy()\n",
    "            image = image.reshape(image.shape[1],image.shape[2])\n",
    "        plt.subplot(1, n, i + 1)\n",
    "        plt.xticks([])\n",
    "        plt.yticks([])\n",
    "        plt.title(' '.join(name.split('_')).title())\n",
    "        plt.imshow(image)\n",
    "    plt.show()"
   ]
  },
  {
   "cell_type": "code",
   "execution_count": 9,
   "id": "da656471",
   "metadata": {},
   "outputs": [
    {
     "data": {
      "text/plain": [
       "torch.Size([2, 1, 224, 224])"
      ]
     },
     "execution_count": 9,
     "metadata": {},
     "output_type": "execute_result"
    }
   ],
   "source": [
    "class SegModel(nn.Module):\n",
    "    def __init__(self, backbone):\n",
    "        super(SegModel, self).__init__()\n",
    "        self.seg = smp.UnetPlusPlus(encoder_name=backbone, encoder_weights='imagenet', classes=1, activation=None)\n",
    "    def forward(self,x):\n",
    "        global_features = self.seg.encoder(x)\n",
    "        seg_features = self.seg.decoder(*global_features)\n",
    "        seg_features = self.seg.segmentation_head(seg_features)\n",
    "        return seg_features\n",
    "\n",
    "m = SegModel(enet_type)\n",
    "m(torch.rand(2,3,224,224)).shape"
   ]
  },
  {
   "cell_type": "code",
   "execution_count": 10,
   "id": "fe7f12a1",
   "metadata": {},
   "outputs": [
    {
     "name": "stderr",
     "output_type": "stream",
     "text": [
      "/opt/conda/lib/python3.7/site-packages/torch/optim/lr_scheduler.py:134: UserWarning: Detected call of `lr_scheduler.step()` before `optimizer.step()`. In PyTorch 1.1.0 and later, you should call them in the opposite order: `optimizer.step()` before `lr_scheduler.step()`.  Failure to do this will result in PyTorch skipping the first value of the learning rate schedule. See more details at https://pytorch.org/docs/stable/optim.html#how-to-adjust-learning-rate\n",
      "  \"https://pytorch.org/docs/stable/optim.html#how-to-adjust-learning-rate\", UserWarning)\n",
      "/opt/conda/lib/python3.7/site-packages/torch/optim/lr_scheduler.py:154: UserWarning: The epoch parameter in `scheduler.step()` was not necessary and is being deprecated where possible. Please use `scheduler.step()` to step the scheduler. During the deprecation, if epoch is different from None, the closed form is used instead of the new chainable form, where available. Please open an issue if you are unable to replicate your use case: https://github.com/pytorch/pytorch/issues/new/choose.\n",
      "  warnings.warn(EPOCH_DEPRECATION_WARNING, UserWarning)\n",
      "/opt/conda/lib/python3.7/site-packages/torch/optim/lr_scheduler.py:509: UserWarning: To get the last learning rate computed by the scheduler, please use `get_last_lr()`.\n",
      "  \"please use `get_last_lr()`.\", UserWarning)\n"
     ]
    },
    {
     "data": {
      "text/plain": [
       "[<matplotlib.lines.Line2D at 0x7fe4bf742450>]"
      ]
     },
     "execution_count": 10,
     "metadata": {},
     "output_type": "execute_result"
    },
    {
     "data": {
      "image/png": "[encoded data removed]",
      "text/plain": [
       "<Figure size 1440x216 with 1 Axes>"
      ]
     },
     "metadata": {
      "needs_background": "light"
     },
     "output_type": "display_data"
    }
   ],
   "source": [
    "from pylab import rcParams\n",
    "rcParams['figure.figsize'] = 20,10\n",
    "class GradualWarmupSchedulerV2(GradualWarmupScheduler):\n",
    "    def __init__(self, optimizer, multiplier, total_epoch, after_scheduler=None):\n",
    "        super(GradualWarmupSchedulerV2, self).__init__(optimizer, multiplier, total_epoch, after_scheduler)\n",
    "    def get_lr(self):\n",
    "        if self.last_epoch > self.total_epoch:\n",
    "            if self.after_scheduler:\n",
    "                if not self.finished:\n",
    "                    self.after_scheduler.base_lrs = [base_lr * self.multiplier for base_lr in self.base_lrs]\n",
    "                    self.finished = True\n",
    "                return self.after_scheduler.get_lr()\n",
    "            return [base_lr * self.multiplier for base_lr in self.base_lrs]\n",
    "        if self.multiplier == 1.0:\n",
    "            return [base_lr * (float(self.last_epoch) / self.total_epoch) for base_lr in self.base_lrs]\n",
    "        else:\n",
    "            return [base_lr * ((self.multiplier - 1.) * self.last_epoch / self.total_epoch + 1.) for base_lr in self.base_lrs]\n",
    "\n",
    "optimizerS = optim.Adam(m.parameters(), lr=init_lr)\n",
    "scheduler_cosine = torch.optim.lr_scheduler.CosineAnnealingLR(optimizerS, cosine_epo)\n",
    "scheduler_warmup = GradualWarmupSchedulerV2(optimizerS, multiplier=10, total_epoch=warmup_epo, after_scheduler=scheduler_cosine)\n",
    "lrs = []\n",
    "for epoch in range(1, n_epochs+1):\n",
    "    scheduler_warmup.step(epoch-1)\n",
    "    lrs.append(optimizerS.param_groups[0][\"lr\"])\n",
    "rcParams['figure.figsize'] = 20,3\n",
    "plt.plot(lrs)"
   ]
  },
  {
   "cell_type": "code",
   "execution_count": 11,
   "id": "808c1123",
   "metadata": {},
   "outputs": [
    {
     "data": {
      "text/plain": [
       "torch.Size([1, 1, 26, 26])"
      ]
     },
     "execution_count": 11,
     "metadata": {},
     "output_type": "execute_result"
    }
   ],
   "source": [
    "class Discriminator(nn.Module):\n",
    "    def __init__(self):\n",
    "        super(Discriminator, self).__init__()\n",
    "                \n",
    "        self.structure = nn.Sequential(\n",
    "            nn.Conv2d(in_channels=4, out_channels=64, kernel_size=4, stride=2, padding=1, bias=False),\n",
    "            nn.LeakyReLU(0.2, inplace=True),\n",
    "            \n",
    "            nn.Conv2d(in_channels=64, out_channels= 128, kernel_size=4, stride=2, padding=1, bias=False),\n",
    "            nn.BatchNorm2d(128),\n",
    "            nn.LeakyReLU(0.2, inplace=True),\n",
    "            \n",
    "            nn.Conv2d(in_channels=128, out_channels=256, kernel_size=4, stride=2, padding=1, bias=False),\n",
    "            nn.BatchNorm2d(256),\n",
    "            nn.LeakyReLU(0.2, inplace=True),\n",
    "            \n",
    "            nn.Conv2d(in_channels=256, out_channels=512, kernel_size=4, stride=1, padding=1, bias=False),\n",
    "            nn.BatchNorm2d(512),\n",
    "            nn.LeakyReLU(0.2, inplace=True),\n",
    "            \n",
    "            nn.Conv2d(in_channels=512, out_channels=1, kernel_size=4, stride=1, padding=1, bias=False)\n",
    "            #nn.Sigmoid()\n",
    "        )\n",
    "        \n",
    "    def forward(self, x):\n",
    "        return self.structure(x)\n",
    "m = Discriminator()\n",
    "m(torch.rand(1,4,224,224)).shape"
   ]
  },
  {
   "cell_type": "code",
   "execution_count": 12,
   "id": "a8cfdc6d",
   "metadata": {},
   "outputs": [
    {
     "data": {
      "text/plain": [
       "[<matplotlib.lines.Line2D at 0x7fe6384357d0>]"
      ]
     },
     "execution_count": 12,
     "metadata": {},
     "output_type": "execute_result"
    },
    {
     "data": {
      "image/png": "[encoded data removed]",
      "text/plain": [
       "<Figure size 1440x216 with 1 Axes>"
      ]
     },
     "metadata": {
      "needs_background": "light"
     },
     "output_type": "display_data"
    }
   ],
   "source": [
    "optimizer1 = optim.Adam(m.parameters(), lr=init_lr)\n",
    "scheduler_cosine = torch.optim.lr_scheduler.CosineAnnealingLR(optimizer1, cosine_epo)\n",
    "scheduler_warmup = GradualWarmupSchedulerV2(optimizer1, multiplier=10, total_epoch=warmup_epo, after_scheduler=scheduler_cosine)\n",
    "lrs = []\n",
    "for epoch in range(1, n_epochs+1):\n",
    "    scheduler_warmup.step(epoch-1)\n",
    "    lrs.append(optimizer1.param_groups[0][\"lr\"])\n",
    "rcParams['figure.figsize'] = 20,3\n",
    "plt.plot(lrs)"
   ]
  },
  {
   "cell_type": "code",
   "execution_count": 13,
   "id": "9423c048",
   "metadata": {},
   "outputs": [],
   "source": [
    "def dice_loss(input,target):\n",
    "    num=input*target\n",
    "    num=torch.sum(num,dim=2)\n",
    "    num=torch.sum(num,dim=2)\n",
    "\n",
    "    den1=input*input\n",
    "    den1=torch.sum(den1,dim=2)\n",
    "    den1=torch.sum(den1,dim=2)\n",
    "\n",
    "    den2=target*target\n",
    "    den2=torch.sum(den2,dim=2)\n",
    "    den2=torch.sum(den2,dim=2)\n",
    "\n",
    "    dice=2*(num/(den1+den2))\n",
    "\n",
    "    dice_total=1-1*torch.sum(dice)/dice.size(0)#divide by batchsize\n",
    "\n",
    "    return dice_total"
   ]
  },
  {
   "cell_type": "code",
   "execution_count": 14,
   "id": "c66187e6",
   "metadata": {},
   "outputs": [],
   "source": [
    "def train_epoch(modelG, modelD, loader, optimizerG,optimizerD):\n",
    "\n",
    "    modelG.train()\n",
    "    modelD.train()\n",
    "    trainG_loss = []\n",
    "    trainD_loss = []\n",
    "    bar = tqdm(loader)\n",
    "    for (data, mask) in bar:\n",
    "\n",
    "        optimizerD.zero_grad()\n",
    "        data, mask = data.to(device), mask.to(device)\n",
    "        real_data = torch.cat([data, mask], dim=1).to(device)\n",
    "        \n",
    "        #Real data\n",
    "        outputs = modelD(real_data) # label \"real\" data\n",
    "        labels = torch.ones(size = outputs.shape, dtype=torch.float, device=device)\n",
    "        lossD_real = criterion(outputs, labels) # divide the objective by 2 -> slow down D\n",
    "              \n",
    "        #Fake Data\n",
    "        gens = modelG(data).detach()\n",
    "        fake_data = torch.cat([data, gens], dim=1) # generated image data\n",
    "        \n",
    "        outputs = modelD(fake_data)\n",
    "        labels = torch.zeros(size = outputs.shape, dtype=torch.float, device=device) # label \"fake\" data\n",
    "        lossD_fake = criterion(outputs, labels) # divide the objective by 2 -> slow down D\n",
    "        #lossD_fake.backward()\n",
    "        lossD = (lossD_fake + lossD_real) * 0.5\n",
    "        lossD.backward()\n",
    "        optimizerD.step()\n",
    "        trainD_loss.append(lossD.item())\n",
    "        \n",
    "#         for i in range(2):\n",
    "        optimizerG.zero_grad()\n",
    "        with amp.autocast():\n",
    "            gens = modelG(data)\n",
    "            gen_data = torch.cat([data, gens], dim=1)\n",
    "            with torch.no_grad():\n",
    "                outputs = modelD(gen_data)\n",
    "            labels = torch.ones(size = outputs.shape, dtype=torch.float, device=device)\n",
    "            loss = criterion(outputs, labels) + dice_loss(mask,gens)#criterion2(mask,gens)*100#L1_lambda * torch.abs(gens-mask).sum()\n",
    "        scaler.scale(loss).backward()\n",
    "        scaler.step(optimizerG)\n",
    "        scaler.update()\n",
    "\n",
    "        loss_np = loss.item()\n",
    "        trainG_loss.append(loss_np)\n",
    "        smooth_loss = sum(trainG_loss[-50:]) / min(len(trainG_loss), 50)\n",
    "        bar.set_description('loss: %.4f, smth: %.4f' % (loss_np, smooth_loss))\n",
    "\n",
    "    return np.mean(trainG_loss),np.mean(trainD_loss)"
   ]
  },
  {
   "cell_type": "code",
   "execution_count": 15,
   "id": "9fe06551",
   "metadata": {},
   "outputs": [],
   "source": [
    "def valid_epoch(model, loader, get_output=False):\n",
    "\n",
    "    model.eval()\n",
    "    val_loss = []\n",
    "    LOGITS = []\n",
    "    with torch.no_grad():\n",
    "        for (data, mask) in tqdm(loader):\n",
    "            data, mask = data.to(device), mask.to(device)\n",
    "            logits = model(data)\n",
    "            loss = criterion(logits, mask)\n",
    "            val_loss.append(loss.item())\n",
    "            LOGITS.append(logits.cpu())\n",
    "\n",
    "    if get_output:\n",
    "        LOGITS = torch.cat(LOGITS, 0).float().sigmoid()\n",
    "        return LOGITS\n",
    "    else:\n",
    "        val_loss = np.mean(val_loss)\n",
    "        return val_loss"
   ]
  },
  {
   "cell_type": "code",
   "execution_count": 16,
   "id": "633ae145",
   "metadata": {},
   "outputs": [],
   "source": [
    "from sklearn.model_selection import train_test_split\n",
    "X_train,X_val = train_test_split(train_files,random_state = 42, test_size = 0.2)"
   ]
  },
  {
   "cell_type": "code",
   "execution_count": 17,
   "id": "953b8b50",
   "metadata": {},
   "outputs": [],
   "source": [
    "def weights_init(m):\n",
    "    name = m.__class__.__name__\n",
    "    \n",
    "    if(name.find(\"Conv\") > -1):\n",
    "        nn.init.normal_(m.weight.data, 0.0, 0.02) # ~N(mean=0.0, std=0.02)\n",
    "    elif(name.find(\"BatchNorm\") > -1):\n",
    "        nn.init.normal_(m.weight.data, 1.0, 0.02)\n",
    "        nn.init.constant_(m.bias.data, 0.0)"
   ]
  },
  {
   "cell_type": "code",
   "execution_count": 18,
   "id": "cd0d996c",
   "metadata": {},
   "outputs": [],
   "source": [
    "criterion = nn.BCEWithLogitsLoss()\n",
    "criterion2 = nn.L1Loss()"
   ]
  },
  {
   "cell_type": "code",
   "execution_count": null,
   "id": "f72953b2",
   "metadata": {},
   "outputs": [
    {
     "name": "stdout",
     "output_type": "stream",
     "text": [
      "\n",
      "Sat May  1 16:58:44 2021 Epoch: 1\n"
     ]
    },
    {
     "name": "stderr",
     "output_type": "stream",
     "text": [
      "/opt/conda/lib/python3.7/site-packages/torch/optim/lr_scheduler.py:134: UserWarning: Detected call of `lr_scheduler.step()` before `optimizer.step()`. In PyTorch 1.1.0 and later, you should call them in the opposite order: `optimizer.step()` before `lr_scheduler.step()`.  Failure to do this will result in PyTorch skipping the first value of the learning rate schedule. See more details at https://pytorch.org/docs/stable/optim.html#how-to-adjust-learning-rate\n",
      "  \"https://pytorch.org/docs/stable/optim.html#how-to-adjust-learning-rate\", UserWarning)\n",
      "/opt/conda/lib/python3.7/site-packages/torch/optim/lr_scheduler.py:154: UserWarning: The epoch parameter in `scheduler.step()` was not necessary and is being deprecated where possible. Please use `scheduler.step()` to step the scheduler. During the deprecation, if epoch is different from None, the closed form is used instead of the new chainable form, where available. Please open an issue if you are unable to replicate your use case: https://github.com/pytorch/pytorch/issues/new/choose.\n",
      "  warnings.warn(EPOCH_DEPRECATION_WARNING, UserWarning)\n",
      "/opt/conda/lib/python3.7/site-packages/ipykernel_launcher.py:7: TqdmDeprecationWarning: This function will be removed in tqdm==5.0.0\n",
      "Please use `tqdm.notebook.tqdm` instead of `tqdm.tqdm_notebook`\n",
      "  import sys\n"
     ]
    },
    {
     "data": {
      "application/vnd.jupyter.widget-view+json": {
       "model_id": "8c23bc9450ab4947bf30d40ee9852554",
       "version_major": 2,
       "version_minor": 0
      },
      "text/plain": [
       "  0%|          | 0/125 [00:00<?, ?it/s]"
      ]
     },
     "metadata": {},
     "output_type": "display_data"
    }
   ],
   "source": [
    "content = ''\n",
    "print(content)\n",
    "with open(log_file, 'a') as appender:\n",
    "    appender.write(content + '\\n')\n",
    "\n",
    "dataset_train = RANZCRDataset(X_train[:500], 'train', transform=transforms_train)\n",
    "dataset_valid = RANZCRDataset(X_val[:500], 'valid', transform=transforms_val)\n",
    "train_loader = torch.utils.data.DataLoader(dataset_train, batch_size=4, shuffle=True, num_workers=0)\n",
    "valid_loader = torch.utils.data.DataLoader(dataset_valid, batch_size=8, shuffle=False, num_workers=0)\n",
    "\n",
    "modelG = SegModel(enet_type)\n",
    "modelG = modelG.to(device)\n",
    "val_loss_min = np.Inf\n",
    "\n",
    "modelD = Discriminator()\n",
    "modelD.apply(weights_init)\n",
    "modelD = modelD.to(device)\n",
    "\n",
    "optimizerD = optim.Adam(modelD.parameters(), lr=init_lr)\n",
    "schedulerD_cosine = torch.optim.lr_scheduler.CosineAnnealingLR(optimizerD, cosine_epo)\n",
    "schedulerD_warmup = GradualWarmupSchedulerV2(optimizerD, multiplier=10, total_epoch=warmup_epo, after_scheduler=schedulerD_cosine)\n",
    "\n",
    "optimizerG = optim.Adam(modelG.parameters(), lr=init_lr)\n",
    "schedulerG_cosine = torch.optim.lr_scheduler.CosineAnnealingLR(optimizerG, cosine_epo)\n",
    "schedulerG_warmup = GradualWarmupSchedulerV2(optimizerG, multiplier=10, total_epoch=warmup_epo, after_scheduler=schedulerG_cosine)\n",
    "for epoch in range(1, n_epochs+1):\n",
    "    print(time.ctime(), 'Epoch:', epoch)\n",
    "    schedulerD_warmup.step(epoch-1)\n",
    "    schedulerG_warmup.step(epoch-1)\n",
    "\n",
    "    trainG_loss,trainD_loss = train_epoch(modelG,modelD, train_loader, optimizerG,optimizerD)\n",
    "    val_loss = valid_epoch(modelG, valid_loader)\n",
    "\n",
    "    content = time.ctime() + ' ' +\\\n",
    "                f'Epoch {epoch},lrG: {optimizerG.param_groups[0][\"lr\"]:.7f}, lrD: {optimizerD.param_groups[0][\"lr\"]:.7f} '+\\\n",
    "                f'trainG loss: {trainG_loss:.5f},trainD loss: {trainD_loss:.5f}, valid loss: {(val_loss):.5f}.'\n",
    "    print(content)\n",
    "    with open(log_file, 'a') as appender:\n",
    "        appender.write(content + '\\n')\n",
    "    with torch.no_grad():\n",
    "        k = np.random.randint(0,len(dataset_valid))\n",
    "        img,mask = dataset_valid[k]\n",
    "        x_tensor = img.to(device).unsqueeze(0)\n",
    "        pr_mask = modelG(x_tensor)\n",
    "        pr_mask = pr_mask.squeeze().cpu()\n",
    "        visualize(image=image,mask=mask,generated_mask = pr_mask)\n",
    "          \n",
    "\n",
    "    if val_loss_min > val_loss:\n",
    "        modelG_file = os.path.join(model_dir, f'generator_best_epoch{epoch}.pth')\n",
    "        modelD_file = os.path.join(model_dir, f'Discriminator_best_epoch{epoch}.pth')\n",
    "        print('Validation loss decreased ({:.6f} --> {:.6f}).  Saving model ...'.format(val_loss_min, val_loss))\n",
    "        torch.save(modelG.state_dict(), modelG_file)\n",
    "        torch.save(modelD.state_dict(), modelD_file)\n",
    "        val_loss_min = val_loss"
   ]
  },
  {
   "cell_type": "code",
   "execution_count": null,
   "id": "facd311e",
   "metadata": {},
   "outputs": [],
   "source": []
  }
 ],
 "metadata": {
  "environment": {
   "name": "pytorch-gpu.1-8.m65",
   "type": "gcloud",
   "uri": "gcr.io/deeplearning-platform-release/pytorch-gpu.1-8:m65"
  },
  "kernelspec": {
   "display_name": "Python 3",
   "language": "python",
   "name": "python3"
  },
  "language_info": {
   "codemirror_mode": {
    "name": "ipython",
    "version": 3
   },
   "file_extension": ".py",
   "mimetype": "text/x-python",
   "name": "python",
   "nbconvert_exporter": "python",
   "pygments_lexer": "ipython3",
   "version": "3.7.10"
  }
 },
 "nbformat": 4,
 "nbformat_minor": 5
}
