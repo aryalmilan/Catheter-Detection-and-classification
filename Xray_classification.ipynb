{
 "cells": [
  {
   "cell_type": "code",
   "execution_count": 2,
   "id": "4c4c1deb",
   "metadata": {},
   "outputs": [],
   "source": [
    "# libraries\n",
    "import os\n",
    "import time\n",
    "import random\n",
    "import numpy as np\n",
    "import pandas as pd\n",
    "import subprocess\n",
    "import cv2\n",
    "import PIL.Image\n",
    "import matplotlib.pyplot as plt\n",
    "%matplotlib inline\n",
    "import seaborn as sns\n",
    "import torch\n",
    "from torch.utils.data import DataLoader, Dataset\n",
    "import torch.nn as nn\n",
    "import torch.nn.functional as F\n",
    "import torchvision.transforms as transforms\n",
    "import torch.optim as optim\n",
    "from torch.optim import lr_scheduler\n",
    "from torch.optim.lr_scheduler import CosineAnnealingLR\n",
    "from sklearn.metrics import roc_auc_score\n",
    "from warmup_scheduler import GradualWarmupScheduler\n",
    "import albumentations\n",
    "import timm\n",
    "from tqdm.notebook import tqdm\n",
    "import torch.cuda.amp as amp\n",
    "import warnings\n",
    "\n",
    "warnings.simplefilter('ignore')\n",
    "scaler = amp.GradScaler()\n",
    "device = torch.device('cuda')"
   ]
  },
  {
   "cell_type": "code",
   "execution_count": 5,
   "id": "e8048db1",
   "metadata": {},
   "outputs": [],
   "source": [
    "DEBUG = False\n",
    "kernel_type = 'enetb1_5ch_512_lr3e4_bs32_30epo'\n",
    "enet_type = 'tf_efficientnet_b1_ns'\n",
    "data_dir = '../xray_image'\n",
    "num_workers = 2\n",
    "num_classes = 12\n",
    "n_ch = 5\n",
    "image_size = 512\n",
    "batch_size = 32\n",
    "init_lr = 3e-4\n",
    "warmup_epo = 1\n",
    "# If DEBUG == True, only run 3 epochs per fold\n",
    "cosine_epo = 29 if not DEBUG else 2\n",
    "n_epochs = warmup_epo + cosine_epo\n",
    "loss_weights = [1., 9.]\n",
    "image_folder = 'train'\n",
    "mask_folder = '../generated_mask/'\n",
    "\n",
    "log_dir = 'logs_classificarion'\n",
    "model_dir = 'models_classification'\n",
    "os.makedirs(log_dir, exist_ok=True)\n",
    "os.makedirs(model_dir, exist_ok=True)\n",
    "log_file = os.path.join(log_dir, f'log_{kernel_type}.txt')"
   ]
  },
  {
   "cell_type": "code",
   "execution_count": 6,
   "id": "50b5023b",
   "metadata": {},
   "outputs": [
    {
     "data": {
      "text/plain": [
       "(30083, 12)"
      ]
     },
     "execution_count": 6,
     "metadata": {},
     "output_type": "execute_result"
    }
   ],
   "source": [
    "train_df = pd.read_csv(os.path.join(data_dir,'train.csv')).drop('PatientID', axis=1)\n",
    "train_df.shape"
   ]
  },
  {
   "cell_type": "code",
   "execution_count": null,
   "id": "153505ab",
   "metadata": {},
   "outputs": [],
   "source": [
    "train_df.query('')"
   ]
  },
  {
   "cell_type": "code",
   "execution_count": 76,
   "id": "9d6537bc",
   "metadata": {
    "scrolled": true
   },
   "outputs": [
    {
     "data": {
      "text/plain": [
       "0        1\n",
       "1        0\n",
       "2        1\n",
       "3        1\n",
       "4        1\n",
       "        ..\n",
       "30078    0\n",
       "30079    1\n",
       "30080    0\n",
       "30081    1\n",
       "30082    0\n",
       "Length: 30083, dtype: int64"
      ]
     },
     "execution_count": 76,
     "metadata": {},
     "output_type": "execute_result"
    }
   ],
   "source": [
    "((train_df['ETT - Abnormal'] ==0) & (train_df['ETT - Borderline']==0) & (train_df['ETT - Normal']==0)).astype(int)"
   ]
  },
  {
   "cell_type": "code",
   "execution_count": 77,
   "id": "4308e14e",
   "metadata": {},
   "outputs": [
    {
     "data": {
      "text/plain": [
       "0        1\n",
       "1        0\n",
       "2        1\n",
       "3        1\n",
       "4        1\n",
       "        ..\n",
       "30078    0\n",
       "30079    1\n",
       "30080    0\n",
       "30081    1\n",
       "30082    0\n",
       "Length: 30083, dtype: int64"
      ]
     },
     "execution_count": 77,
     "metadata": {},
     "output_type": "execute_result"
    }
   ],
   "source": [
    "1-train_df[train_df.columns[1:4]].sum(axis=1)"
   ]
  },
  {
   "cell_type": "code",
   "execution_count": 70,
   "id": "8418bfd5",
   "metadata": {
    "scrolled": true
   },
   "outputs": [
    {
     "data": {
      "text/html": [
       "<div>\n",
       "<style scoped>\n",
       "    .dataframe tbody tr th:only-of-type {\n",
       "        vertical-align: middle;\n",
       "    }\n",
       "\n",
       "    .dataframe tbody tr th {\n",
       "        vertical-align: top;\n",
       "    }\n",
       "\n",
       "    .dataframe thead th {\n",
       "        text-align: right;\n",
       "    }\n",
       "</style>\n",
       "<table border=\"1\" class=\"dataframe\">\n",
       "  <thead>\n",
       "    <tr style=\"text-align: right;\">\n",
       "      <th></th>\n",
       "      <th>StudyInstanceUID</th>\n",
       "      <th>ETT - Abnormal</th>\n",
       "      <th>ETT - Borderline</th>\n",
       "      <th>ETT - Normal</th>\n",
       "      <th>NGT - Abnormal</th>\n",
       "      <th>NGT - Borderline</th>\n",
       "      <th>NGT - Incompletely Imaged</th>\n",
       "      <th>NGT - Normal</th>\n",
       "      <th>CVC - Abnormal</th>\n",
       "      <th>CVC - Borderline</th>\n",
       "      <th>CVC - Normal</th>\n",
       "      <th>Swan Ganz Catheter Present</th>\n",
       "    </tr>\n",
       "  </thead>\n",
       "  <tbody>\n",
       "    <tr>\n",
       "      <th>0</th>\n",
       "      <td>1.2.826.0.1.3680043.8.498.26697628953273228189...</td>\n",
       "      <td>0</td>\n",
       "      <td>0</td>\n",
       "      <td>0</td>\n",
       "      <td>0</td>\n",
       "      <td>0</td>\n",
       "      <td>0</td>\n",
       "      <td>1</td>\n",
       "      <td>0</td>\n",
       "      <td>0</td>\n",
       "      <td>0</td>\n",
       "      <td>0</td>\n",
       "    </tr>\n",
       "    <tr>\n",
       "      <th>1</th>\n",
       "      <td>1.2.826.0.1.3680043.8.498.46302891597398758759...</td>\n",
       "      <td>0</td>\n",
       "      <td>0</td>\n",
       "      <td>1</td>\n",
       "      <td>0</td>\n",
       "      <td>0</td>\n",
       "      <td>1</td>\n",
       "      <td>0</td>\n",
       "      <td>0</td>\n",
       "      <td>0</td>\n",
       "      <td>1</td>\n",
       "      <td>0</td>\n",
       "    </tr>\n",
       "    <tr>\n",
       "      <th>2</th>\n",
       "      <td>1.2.826.0.1.3680043.8.498.23819260719748494858...</td>\n",
       "      <td>0</td>\n",
       "      <td>0</td>\n",
       "      <td>0</td>\n",
       "      <td>0</td>\n",
       "      <td>0</td>\n",
       "      <td>0</td>\n",
       "      <td>0</td>\n",
       "      <td>0</td>\n",
       "      <td>1</td>\n",
       "      <td>0</td>\n",
       "      <td>0</td>\n",
       "    </tr>\n",
       "    <tr>\n",
       "      <th>3</th>\n",
       "      <td>1.2.826.0.1.3680043.8.498.68286643202323212801...</td>\n",
       "      <td>0</td>\n",
       "      <td>0</td>\n",
       "      <td>0</td>\n",
       "      <td>0</td>\n",
       "      <td>0</td>\n",
       "      <td>0</td>\n",
       "      <td>0</td>\n",
       "      <td>1</td>\n",
       "      <td>0</td>\n",
       "      <td>0</td>\n",
       "      <td>0</td>\n",
       "    </tr>\n",
       "    <tr>\n",
       "      <th>4</th>\n",
       "      <td>1.2.826.0.1.3680043.8.498.10050203009225938259...</td>\n",
       "      <td>0</td>\n",
       "      <td>0</td>\n",
       "      <td>0</td>\n",
       "      <td>0</td>\n",
       "      <td>0</td>\n",
       "      <td>0</td>\n",
       "      <td>0</td>\n",
       "      <td>0</td>\n",
       "      <td>0</td>\n",
       "      <td>1</td>\n",
       "      <td>0</td>\n",
       "    </tr>\n",
       "  </tbody>\n",
       "</table>\n",
       "</div>"
      ],
      "text/plain": [
       "                                    StudyInstanceUID  ETT - Abnormal  \\\n",
       "0  1.2.826.0.1.3680043.8.498.26697628953273228189...               0   \n",
       "1  1.2.826.0.1.3680043.8.498.46302891597398758759...               0   \n",
       "2  1.2.826.0.1.3680043.8.498.23819260719748494858...               0   \n",
       "3  1.2.826.0.1.3680043.8.498.68286643202323212801...               0   \n",
       "4  1.2.826.0.1.3680043.8.498.10050203009225938259...               0   \n",
       "\n",
       "   ETT - Borderline  ETT - Normal  NGT - Abnormal  NGT - Borderline  \\\n",
       "0                 0             0               0                 0   \n",
       "1                 0             1               0                 0   \n",
       "2                 0             0               0                 0   \n",
       "3                 0             0               0                 0   \n",
       "4                 0             0               0                 0   \n",
       "\n",
       "   NGT - Incompletely Imaged  NGT - Normal  CVC - Abnormal  CVC - Borderline  \\\n",
       "0                          0             1               0                 0   \n",
       "1                          1             0               0                 0   \n",
       "2                          0             0               0                 1   \n",
       "3                          0             0               1                 0   \n",
       "4                          0             0               0                 0   \n",
       "\n",
       "   CVC - Normal  Swan Ganz Catheter Present  \n",
       "0             0                           0  \n",
       "1             1                           0  \n",
       "2             0                           0  \n",
       "3             0                           0  \n",
       "4             1                           0  "
      ]
     },
     "execution_count": 70,
     "metadata": {},
     "output_type": "execute_result"
    }
   ],
   "source": [
    "train_df.head()"
   ]
  },
  {
   "cell_type": "code",
   "execution_count": 9,
   "id": "38d0f2d6",
   "metadata": {},
   "outputs": [
    {
     "data": {
      "text/plain": [
       "30083"
      ]
     },
     "execution_count": 9,
     "metadata": {},
     "output_type": "execute_result"
    }
   ],
   "source": [
    "all_files = train_df.StudyInstanceUID.unique()\n",
    "len(all_files)"
   ]
  },
  {
   "cell_type": "code",
   "execution_count": 43,
   "id": "6c3ec91f",
   "metadata": {},
   "outputs": [],
   "source": [
    "class RANZCRDatasetCLS(Dataset):\n",
    "\n",
    "    def __init__(self, df, mode, transform=None):\n",
    "\n",
    "        self.df = df.reset_index(drop=True)\n",
    "        self.mode = mode\n",
    "        self.transform = transform\n",
    "\n",
    "    def __len__(self):\n",
    "        return self.df.shape[0]\n",
    "\n",
    "    def __getitem__(self, index):\n",
    "        row = self.df.iloc[index]\n",
    "        image = cv2.imread(os.path.join(data_dir, image_folder, row.StudyInstanceUID + '.jpg'))[:, :, ::-1]\n",
    "        mask = cv2.imread(os.path.join(mask_folder, row.StudyInstanceUID + '.png')).astype(np.float32)[:,:,:1]\n",
    "\n",
    "        res = self.transform(image=image, mask=mask)\n",
    "        image = res['image'].astype(np.float32).transpose(2, 0, 1) / 255.\n",
    "        mask = res['mask'].astype(np.float32).transpose(2, 0, 1) / 255.\n",
    "\n",
    "        image = np.concatenate([image, mask], 0)\n",
    "\n",
    "        if self.mode == 'test':\n",
    "            return torch.tensor(image)\n",
    "        else:\n",
    "            label = row[[\n",
    "                'ETT - Abnormal',\n",
    "                'ETT - Borderline',\n",
    "                'ETT - Normal',\n",
    "                'NGT - Abnormal',\n",
    "                'NGT - Borderline',\n",
    "                'NGT - Incompletely Imaged',\n",
    "                'NGT - Normal',\n",
    "                'CVC - Abnormal',\n",
    "                'CVC - Borderline',\n",
    "                'CVC - Normal',\n",
    "                'Swan Ganz Catheter Present'\n",
    "            ]].values.astype(float)\n",
    "            return torch.tensor(image).float(), torch.tensor(label).float()"
   ]
  },
  {
   "cell_type": "code",
   "execution_count": 44,
   "id": "f7e6e7d4",
   "metadata": {},
   "outputs": [],
   "source": [
    "transforms_train = albumentations.Compose([\n",
    "    albumentations.Resize(image_size, image_size),\n",
    "    #albumentations.HorizontalFlip(p=0.5),\n",
    "    albumentations.RandomBrightness(limit=0.2, p=0.75),\n",
    "    albumentations.RandomContrast(limit=0.2, p=0.75),\n",
    "\n",
    "    albumentations.OneOf([\n",
    "        albumentations.OpticalDistortion(distort_limit=1.),\n",
    "        albumentations.GridDistortion(num_steps=5, distort_limit=1.),\n",
    "    ], p=0.75),\n",
    "\n",
    "    albumentations.HueSaturationValue(hue_shift_limit=40, sat_shift_limit=40, val_shift_limit=0, p=0.75),\n",
    "    albumentations.ShiftScaleRotate(shift_limit=0.2, scale_limit=0.3, rotate_limit=30, border_mode=0, p=0.75),\n",
    "    #CutoutV2(max_h_size=int(image_size * 0.4), max_w_size=int(image_size * 0.4), num_holes=1, p=0.75),\n",
    "])\n",
    "transforms_val = albumentations.Compose([\n",
    "    albumentations.Resize(image_size, image_size),\n",
    "])"
   ]
  },
  {
   "cell_type": "code",
   "execution_count": 45,
   "id": "a094f411",
   "metadata": {},
   "outputs": [],
   "source": [
    "def visualize(**images):\n",
    "    \"\"\"PLot images in one row.\"\"\"\n",
    "    n = len(images)\n",
    "    plt.figure(figsize=(8, 8))\n",
    "    for i, (name, image) in enumerate(images.items()):\n",
    "        if image.shape[0] == 3:\n",
    "            image = image.numpy()\n",
    "            image = image.transpose((1,2,0))\n",
    "        elif image.shape[0] == 1:\n",
    "            image = image.numpy()\n",
    "            image = image.reshape(image.shape[1],image.shape[2])\n",
    "        plt.subplot(1, n, i + 1)\n",
    "        plt.xticks([])\n",
    "        plt.yticks([])\n",
    "        plt.title(' '.join(name.split('_')).title())\n",
    "        plt.imshow(image)\n",
    "    plt.show()"
   ]
  },
  {
   "cell_type": "code",
   "execution_count": 53,
   "id": "7ec72ac1",
   "metadata": {},
   "outputs": [],
   "source": [
    "dataset_show = RANZCRDatasetCLS(train_df,'train', transform=transforms_train)"
   ]
  },
  {
   "cell_type": "code",
   "execution_count": 61,
   "id": "92e006d1",
   "metadata": {
    "scrolled": true
   },
   "outputs": [
    {
     "name": "stdout",
     "output_type": "stream",
     "text": [
      "torch.Size([11])\n",
      "torch.Size([11])\n",
      "torch.Size([11])\n",
      "torch.Size([11])\n",
      "torch.Size([11])\n"
     ]
    }
   ],
   "source": [
    "for i in range(5):\n",
    "    image, mask = dataset_show[i]\n",
    "    print(mask.shape)\n",
    "    #visualize(image=image[:3].transpose(0, 1).transpose(1,2),\n",
    "             #mask= image[3:].sum(0))"
   ]
  },
  {
   "cell_type": "code",
   "execution_count": 62,
   "id": "0ab11ba8",
   "metadata": {},
   "outputs": [
    {
     "name": "stderr",
     "output_type": "stream",
     "text": [
      "Downloading: \"https://github.com/rwightman/pytorch-image-models/releases/download/v0.1-weights/tf_efficientnet_b1_ns-99dd0c41.pth\" to /home/jupyter/.cache/torch/hub/checkpoints/tf_efficientnet_b1_ns-99dd0c41.pth\n"
     ]
    },
    {
     "data": {
      "text/plain": [
       "tensor([[ 3.5208e-05, -8.1112e-02, -5.9093e-02, -1.1614e-01, -8.9228e-02,\n",
       "         -1.8643e-03,  1.6376e-02,  1.1959e-01,  1.1565e-01,  1.2328e-02,\n",
       "          1.1132e-01,  1.6108e-01],\n",
       "        [-2.1800e-01,  1.1222e-01,  8.1100e-03,  1.1879e-01,  4.6126e-02,\n",
       "         -6.4138e-02,  3.1382e-02, -1.2634e-02, -3.1873e-02, -1.2966e-01,\n",
       "          1.0857e-01, -1.2204e-02]], grad_fn=<AddmmBackward>)"
      ]
     },
     "execution_count": 62,
     "metadata": {},
     "output_type": "execute_result"
    }
   ],
   "source": [
    "class enetv2(nn.Module):\n",
    "    def __init__(self, enet_type, out_dim):\n",
    "        super(enetv2, self).__init__()\n",
    "        self.enet = timm.create_model(enet_type, True)\n",
    "        self.dropout = nn.Dropout(0.5)\n",
    "        self.enet.conv_stem.weight = nn.Parameter(self.enet.conv_stem.weight.repeat(1,n_ch//3+1,1,1)[:, :n_ch])\n",
    "        self.myfc = nn.Linear(self.enet.classifier.in_features, out_dim)\n",
    "        self.enet.classifier = nn.Identity()\n",
    "\n",
    "    def extract(self, x):\n",
    "        return self.enet(x)\n",
    "\n",
    "    def forward(self, x):\n",
    "        x = self.extract(x)\n",
    "        h = self.myfc(self.dropout(x))\n",
    "        return h\n",
    "\n",
    "m = enetv2(enet_type, num_classes)\n",
    "m(torch.rand(2,n_ch,image_size, image_size))"
   ]
  },
  {
   "cell_type": "code",
   "execution_count": null,
   "id": "05591b2f",
   "metadata": {},
   "outputs": [],
   "source": []
  }
 ],
 "metadata": {
  "environment": {
   "name": "pytorch-gpu.1-8.m65",
   "type": "gcloud",
   "uri": "gcr.io/deeplearning-platform-release/pytorch-gpu.1-8:m65"
  },
  "kernelspec": {
   "display_name": "Python 3",
   "language": "python",
   "name": "python3"
  },
  "language_info": {
   "codemirror_mode": {
    "name": "ipython",
    "version": 3
   },
   "file_extension": ".py",
   "mimetype": "text/x-python",
   "name": "python",
   "nbconvert_exporter": "python",
   "pygments_lexer": "ipython3",
   "version": "3.7.10"
  }
 },
 "nbformat": 4,
 "nbformat_minor": 5
}
