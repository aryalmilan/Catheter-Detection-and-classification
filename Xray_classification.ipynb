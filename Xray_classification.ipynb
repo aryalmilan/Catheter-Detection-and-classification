{
 "cells": [
  {
   "cell_type": "code",
   "execution_count": 1,
   "id": "4c4c1deb",
   "metadata": {},
   "outputs": [],
   "source": [
    "# libraries\n",
    "import os\n",
    "import time\n",
    "import random\n",
    "import numpy as np\n",
    "import pandas as pd\n",
    "import subprocess\n",
    "import cv2\n",
    "import PIL.Image\n",
    "import matplotlib.pyplot as plt\n",
    "%matplotlib inline\n",
    "import seaborn as sns\n",
    "import torch\n",
    "from torch.utils.data import DataLoader, Dataset\n",
    "import torch.nn as nn\n",
    "import torch.nn.functional as F\n",
    "import torchvision.transforms as transforms\n",
    "import torch.optim as optim\n",
    "from torch.optim import lr_scheduler\n",
    "from torch.optim.lr_scheduler import CosineAnnealingLR\n",
    "from sklearn.metrics import roc_auc_score\n",
    "from warmup_scheduler import GradualWarmupScheduler\n",
    "import albumentations\n",
    "import timm\n",
    "from tqdm.notebook import tqdm\n",
    "import torch.cuda.amp as amp\n",
    "import warnings\n",
    "\n",
    "warnings.simplefilter('ignore')\n",
    "scaler = amp.GradScaler()\n",
    "device = torch.device('cuda')"
   ]
  },
  {
   "cell_type": "code",
   "execution_count": 2,
   "id": "e8048db1",
   "metadata": {},
   "outputs": [],
   "source": [
    "DEBUG = False\n",
    "kernel_type = 'enetb1_5ch_512_lr3e4_bs32_30epo'\n",
    "enet_type = 'tf_efficientnet_b1_ns'\n",
    "data_dir = '../xray_image'\n",
    "num_workers = 2\n",
    "num_classes = 12\n",
    "n_ch = 4\n",
    "image_size = 512\n",
    "batch_size = 16\n",
    "init_lr = 3e-4\n",
    "warmup_epo = 1\n",
    "# If DEBUG == True, only run 3 epochs per fold\n",
    "cosine_epo = 15 if not DEBUG else 2\n",
    "n_epochs = warmup_epo + cosine_epo\n",
    "loss_weights = [1., 9.]\n",
    "image_folder = 'train'\n",
    "mask_folder = '../generated_mask/'\n",
    "\n",
    "log_dir = 'logs_classificarion'\n",
    "model_dir = 'models_classification'\n",
    "os.makedirs(log_dir, exist_ok=True)\n",
    "os.makedirs(model_dir, exist_ok=True)\n",
    "log_file = os.path.join(log_dir, f'log_{kernel_type}.txt')"
   ]
  },
  {
   "cell_type": "code",
   "execution_count": 3,
   "id": "50b5023b",
   "metadata": {},
   "outputs": [
    {
     "data": {
      "text/plain": [
       "(30083, 12)"
      ]
     },
     "execution_count": 3,
     "metadata": {},
     "output_type": "execute_result"
    }
   ],
   "source": [
    "train_df = pd.read_csv(os.path.join(data_dir,'train.csv')).drop('PatientID', axis=1)\n",
    "train_df.shape"
   ]
  },
  {
   "cell_type": "code",
   "execution_count": 4,
   "id": "813b0068",
   "metadata": {},
   "outputs": [
    {
     "data": {
      "text/plain": [
       "8457"
      ]
     },
     "execution_count": 4,
     "metadata": {},
     "output_type": "execute_result"
    }
   ],
   "source": [
    "train_df[train_df.columns[1:4]].sum(axis=1).sum()"
   ]
  },
  {
   "cell_type": "code",
   "execution_count": 5,
   "id": "4308e14e",
   "metadata": {},
   "outputs": [],
   "source": [
    "train_df['ETT-No']=1-train_df[train_df.columns[1:4]].sum(axis=1)"
   ]
  },
  {
   "cell_type": "code",
   "execution_count": 6,
   "id": "8418bfd5",
   "metadata": {
    "scrolled": true
   },
   "outputs": [
    {
     "data": {
      "text/html": [
       "<div>\n",
       "<style scoped>\n",
       "    .dataframe tbody tr th:only-of-type {\n",
       "        vertical-align: middle;\n",
       "    }\n",
       "\n",
       "    .dataframe tbody tr th {\n",
       "        vertical-align: top;\n",
       "    }\n",
       "\n",
       "    .dataframe thead th {\n",
       "        text-align: right;\n",
       "    }\n",
       "</style>\n",
       "<table border=\"1\" class=\"dataframe\">\n",
       "  <thead>\n",
       "    <tr style=\"text-align: right;\">\n",
       "      <th></th>\n",
       "      <th>StudyInstanceUID</th>\n",
       "      <th>ETT - Abnormal</th>\n",
       "      <th>ETT - Borderline</th>\n",
       "      <th>ETT - Normal</th>\n",
       "      <th>NGT - Abnormal</th>\n",
       "      <th>NGT - Borderline</th>\n",
       "      <th>NGT - Incompletely Imaged</th>\n",
       "      <th>NGT - Normal</th>\n",
       "      <th>CVC - Abnormal</th>\n",
       "      <th>CVC - Borderline</th>\n",
       "      <th>CVC - Normal</th>\n",
       "      <th>Swan Ganz Catheter Present</th>\n",
       "      <th>ETT-No</th>\n",
       "    </tr>\n",
       "  </thead>\n",
       "  <tbody>\n",
       "    <tr>\n",
       "      <th>0</th>\n",
       "      <td>1.2.826.0.1.3680043.8.498.26697628953273228189...</td>\n",
       "      <td>0</td>\n",
       "      <td>0</td>\n",
       "      <td>0</td>\n",
       "      <td>0</td>\n",
       "      <td>0</td>\n",
       "      <td>0</td>\n",
       "      <td>1</td>\n",
       "      <td>0</td>\n",
       "      <td>0</td>\n",
       "      <td>0</td>\n",
       "      <td>0</td>\n",
       "      <td>1</td>\n",
       "    </tr>\n",
       "    <tr>\n",
       "      <th>1</th>\n",
       "      <td>1.2.826.0.1.3680043.8.498.46302891597398758759...</td>\n",
       "      <td>0</td>\n",
       "      <td>0</td>\n",
       "      <td>1</td>\n",
       "      <td>0</td>\n",
       "      <td>0</td>\n",
       "      <td>1</td>\n",
       "      <td>0</td>\n",
       "      <td>0</td>\n",
       "      <td>0</td>\n",
       "      <td>1</td>\n",
       "      <td>0</td>\n",
       "      <td>0</td>\n",
       "    </tr>\n",
       "    <tr>\n",
       "      <th>2</th>\n",
       "      <td>1.2.826.0.1.3680043.8.498.23819260719748494858...</td>\n",
       "      <td>0</td>\n",
       "      <td>0</td>\n",
       "      <td>0</td>\n",
       "      <td>0</td>\n",
       "      <td>0</td>\n",
       "      <td>0</td>\n",
       "      <td>0</td>\n",
       "      <td>0</td>\n",
       "      <td>1</td>\n",
       "      <td>0</td>\n",
       "      <td>0</td>\n",
       "      <td>1</td>\n",
       "    </tr>\n",
       "    <tr>\n",
       "      <th>3</th>\n",
       "      <td>1.2.826.0.1.3680043.8.498.68286643202323212801...</td>\n",
       "      <td>0</td>\n",
       "      <td>0</td>\n",
       "      <td>0</td>\n",
       "      <td>0</td>\n",
       "      <td>0</td>\n",
       "      <td>0</td>\n",
       "      <td>0</td>\n",
       "      <td>1</td>\n",
       "      <td>0</td>\n",
       "      <td>0</td>\n",
       "      <td>0</td>\n",
       "      <td>1</td>\n",
       "    </tr>\n",
       "    <tr>\n",
       "      <th>4</th>\n",
       "      <td>1.2.826.0.1.3680043.8.498.10050203009225938259...</td>\n",
       "      <td>0</td>\n",
       "      <td>0</td>\n",
       "      <td>0</td>\n",
       "      <td>0</td>\n",
       "      <td>0</td>\n",
       "      <td>0</td>\n",
       "      <td>0</td>\n",
       "      <td>0</td>\n",
       "      <td>0</td>\n",
       "      <td>1</td>\n",
       "      <td>0</td>\n",
       "      <td>1</td>\n",
       "    </tr>\n",
       "  </tbody>\n",
       "</table>\n",
       "</div>"
      ],
      "text/plain": [
       "                                    StudyInstanceUID  ETT - Abnormal  \\\n",
       "0  1.2.826.0.1.3680043.8.498.26697628953273228189...               0   \n",
       "1  1.2.826.0.1.3680043.8.498.46302891597398758759...               0   \n",
       "2  1.2.826.0.1.3680043.8.498.23819260719748494858...               0   \n",
       "3  1.2.826.0.1.3680043.8.498.68286643202323212801...               0   \n",
       "4  1.2.826.0.1.3680043.8.498.10050203009225938259...               0   \n",
       "\n",
       "   ETT - Borderline  ETT - Normal  NGT - Abnormal  NGT - Borderline  \\\n",
       "0                 0             0               0                 0   \n",
       "1                 0             1               0                 0   \n",
       "2                 0             0               0                 0   \n",
       "3                 0             0               0                 0   \n",
       "4                 0             0               0                 0   \n",
       "\n",
       "   NGT - Incompletely Imaged  NGT - Normal  CVC - Abnormal  CVC - Borderline  \\\n",
       "0                          0             1               0                 0   \n",
       "1                          1             0               0                 0   \n",
       "2                          0             0               0                 1   \n",
       "3                          0             0               1                 0   \n",
       "4                          0             0               0                 0   \n",
       "\n",
       "   CVC - Normal  Swan Ganz Catheter Present  ETT-No  \n",
       "0             0                           0       1  \n",
       "1             1                           0       0  \n",
       "2             0                           0       1  \n",
       "3             0                           0       1  \n",
       "4             1                           0       1  "
      ]
     },
     "execution_count": 6,
     "metadata": {},
     "output_type": "execute_result"
    }
   ],
   "source": [
    "train_df.head()"
   ]
  },
  {
   "cell_type": "code",
   "execution_count": 7,
   "id": "38d0f2d6",
   "metadata": {},
   "outputs": [
    {
     "data": {
      "text/plain": [
       "30083"
      ]
     },
     "execution_count": 7,
     "metadata": {},
     "output_type": "execute_result"
    }
   ],
   "source": [
    "all_files = train_df.StudyInstanceUID.unique()\n",
    "len(all_files)"
   ]
  },
  {
   "cell_type": "code",
   "execution_count": 8,
   "id": "d39fca88",
   "metadata": {},
   "outputs": [],
   "source": [
    "X = train_df.StudyInstanceUID.to_numpy()\n",
    "y = train_df[[\n",
    "                'ETT - Abnormal',\n",
    "                'ETT - Borderline',\n",
    "                'ETT - Normal',\n",
    "                'ETT-No',\n",
    "                'NGT - Abnormal',\n",
    "                'NGT - Borderline',\n",
    "                'NGT - Incompletely Imaged',\n",
    "                'NGT - Normal',\n",
    "                'CVC - Abnormal',\n",
    "                'CVC - Borderline',\n",
    "                'CVC - Normal',\n",
    "                'Swan Ganz Catheter Present'\n",
    "            ]].to_numpy()"
   ]
  },
  {
   "cell_type": "code",
   "execution_count": 9,
   "id": "81b7185f",
   "metadata": {},
   "outputs": [
    {
     "data": {
      "text/plain": [
       "30083"
      ]
     },
     "execution_count": 9,
     "metadata": {},
     "output_type": "execute_result"
    }
   ],
   "source": [
    "len(X)"
   ]
  },
  {
   "cell_type": "code",
   "execution_count": 10,
   "id": "0740651d",
   "metadata": {},
   "outputs": [
    {
     "data": {
      "text/plain": [
       "array([0, 0, 0, 1, 0, 0, 0, 1, 0, 0, 0, 0])"
      ]
     },
     "execution_count": 10,
     "metadata": {},
     "output_type": "execute_result"
    }
   ],
   "source": [
    "y[0]"
   ]
  },
  {
   "cell_type": "code",
   "execution_count": 11,
   "id": "6c3ec91f",
   "metadata": {},
   "outputs": [],
   "source": [
    "class RANZCRDatasetCLS(Dataset):\n",
    "\n",
    "    def __init__(self, X,y, mode, transform=None):\n",
    "\n",
    "        self.X = X\n",
    "        self.y = y\n",
    "        self.mode = mode\n",
    "        self.transform = transform\n",
    "\n",
    "    def __len__(self):\n",
    "        return len(self.X)\n",
    "\n",
    "    def __getitem__(self, index):\n",
    "        image = cv2.imread(os.path.join(data_dir, image_folder, self.X[index] + '.jpg'))[:, :, ::-1]\n",
    "        mask = cv2.imread(os.path.join(mask_folder, self.X[index] + '.png')).astype(np.float32)[:,:,:1]\n",
    "\n",
    "        res = self.transform(image=image, mask=mask)\n",
    "        image = res['image'].astype(np.float32).transpose(2, 0, 1) / 255.\n",
    "        mask = res['mask'].astype(np.float32).transpose(2, 0, 1) / 255.\n",
    "\n",
    "        image = np.concatenate([image, mask], 0)\n",
    "\n",
    "        if self.mode == 'test':\n",
    "            return torch.tensor(image)\n",
    "        else:\n",
    "            label = self.y[index].astype(float)\n",
    "            return torch.tensor(image).float(), torch.tensor(label).float()"
   ]
  },
  {
   "cell_type": "code",
   "execution_count": 12,
   "id": "f7e6e7d4",
   "metadata": {},
   "outputs": [],
   "source": [
    "transforms_train = albumentations.Compose([\n",
    "    albumentations.Resize(image_size, image_size),\n",
    "    #albumentations.HorizontalFlip(p=0.5),\n",
    "    albumentations.RandomBrightness(limit=0.2, p=0.75),\n",
    "    albumentations.RandomContrast(limit=0.2, p=0.75),\n",
    "\n",
    "    albumentations.OneOf([\n",
    "        albumentations.OpticalDistortion(distort_limit=1.),\n",
    "        albumentations.GridDistortion(num_steps=5, distort_limit=1.),\n",
    "    ], p=0.75),\n",
    "\n",
    "    albumentations.HueSaturationValue(hue_shift_limit=40, sat_shift_limit=40, val_shift_limit=0, p=0.75),\n",
    "    albumentations.ShiftScaleRotate(shift_limit=0.2, scale_limit=0.3, rotate_limit=30, border_mode=0, p=0.75),\n",
    "    #CutoutV2(max_h_size=int(image_size * 0.4), max_w_size=int(image_size * 0.4), num_holes=1, p=0.75),\n",
    "])\n",
    "transforms_val = albumentations.Compose([\n",
    "    albumentations.Resize(image_size, image_size),\n",
    "])"
   ]
  },
  {
   "cell_type": "code",
   "execution_count": 13,
   "id": "a094f411",
   "metadata": {},
   "outputs": [],
   "source": [
    "def visualize(**images):\n",
    "    \"\"\"PLot images in one row.\"\"\"\n",
    "    n = len(images)\n",
    "    plt.figure(figsize=(8, 8))\n",
    "    for i, (name, image) in enumerate(images.items()):\n",
    "        if image.shape[0] == 3:\n",
    "            image = image.numpy()\n",
    "            image = image.transpose((1,2,0))\n",
    "        elif image.shape[0] == 1:\n",
    "            image = image.numpy()\n",
    "            image = image.reshape(image.shape[1],image.shape[2])\n",
    "        plt.subplot(1, n, i + 1)\n",
    "        plt.xticks([])\n",
    "        plt.yticks([])\n",
    "        plt.title(' '.join(name.split('_')).title())\n",
    "        plt.imshow(image)\n",
    "    plt.show()"
   ]
  },
  {
   "cell_type": "code",
   "execution_count": 14,
   "id": "7ec72ac1",
   "metadata": {},
   "outputs": [],
   "source": [
    "dataset_show = RANZCRDatasetCLS(X,y,'train', transform=transforms_train)"
   ]
  },
  {
   "cell_type": "code",
   "execution_count": 15,
   "id": "92e006d1",
   "metadata": {
    "scrolled": true
   },
   "outputs": [
    {
     "data": {
      "image/png": "[encoded data removed]",
      "text/plain": [
       "<Figure size 576x576 with 2 Axes>"
      ]
     },
     "metadata": {},
     "output_type": "display_data"
    },
    {
     "data": {
      "image/png": "[encoded data removed]",
      "text/plain": [
       "<Figure size 576x576 with 2 Axes>"
      ]
     },
     "metadata": {},
     "output_type": "display_data"
    },
    {
     "data": {
      "image/png": "[encoded data removed]",
      "text/plain": [
       "<Figure size 576x576 with 2 Axes>"
      ]
     },
     "metadata": {},
     "output_type": "display_data"
    },
    {
     "data": {
      "image/png": "[encoded data removed]",
      "text/plain": [
       "<Figure size 576x576 with 2 Axes>"
      ]
     },
     "metadata": {},
     "output_type": "display_data"
    },
    {
     "data": {
      "image/png": "[encoded data removed]",
      "text/plain": [
       "<Figure size 576x576 with 2 Axes>"
      ]
     },
     "metadata": {},
     "output_type": "display_data"
    }
   ],
   "source": [
    "for i in range(5):\n",
    "    image, mask = dataset_show[i]\n",
    "    visualize(image=image[:3].transpose(0, 1).transpose(1,2),\n",
    "             mask= image[3:].sum(0))"
   ]
  },
  {
   "cell_type": "code",
   "execution_count": 16,
   "id": "0ab11ba8",
   "metadata": {},
   "outputs": [
    {
     "data": {
      "text/plain": [
       "tensor([[-0.0886, -0.0474,  0.0124,  0.1316, -0.1281, -0.0324, -0.1208,  0.0694,\n",
       "         -0.1834, -0.0592,  0.1083,  0.0695],\n",
       "        [-0.0260, -0.0311,  0.0084,  0.0725, -0.1063,  0.0106, -0.1377, -0.0599,\n",
       "         -0.0488,  0.0788, -0.0251, -0.0569]], grad_fn=<AddmmBackward>)"
      ]
     },
     "execution_count": 16,
     "metadata": {},
     "output_type": "execute_result"
    }
   ],
   "source": [
    "class enetv2(nn.Module):\n",
    "    def __init__(self, enet_type, out_dim):\n",
    "        super(enetv2, self).__init__()\n",
    "        self.enet = timm.create_model(enet_type, True)\n",
    "        self.dropout = nn.Dropout(0.5)\n",
    "        self.enet.conv_stem.weight = nn.Parameter(self.enet.conv_stem.weight.repeat(1,n_ch//3+1,1,1)[:, :n_ch])\n",
    "        self.myfc = nn.Linear(self.enet.classifier.in_features, out_dim)\n",
    "        self.enet.classifier = nn.Identity()\n",
    "\n",
    "    def extract(self, x):\n",
    "        return self.enet(x)\n",
    "\n",
    "    def forward(self, x):\n",
    "        x = self.extract(x)\n",
    "        h = self.myfc(self.dropout(x))\n",
    "        return h\n",
    "\n",
    "m = enetv2(enet_type, num_classes)\n",
    "m(torch.rand(2,n_ch,image_size, image_size))"
   ]
  },
  {
   "cell_type": "code",
   "execution_count": 17,
   "id": "05591b2f",
   "metadata": {},
   "outputs": [],
   "source": [
    "bce = nn.BCEWithLogitsLoss()\n",
    "ce = nn.CrossEntropyLoss()\n",
    "\n",
    "\n",
    "def criterion(logits, targets, lw=loss_weights):\n",
    "    loss1 = ce(logits[:, :4], targets[:, :4].argmax(1)) * lw[0]\n",
    "    loss2 = bce(logits[:, 4:], targets[:, 4:]) * lw[1]\n",
    "    return (loss1 + loss2) / sum(lw)"
   ]
  },
  {
   "cell_type": "code",
   "execution_count": 18,
   "id": "6c1bebbe",
   "metadata": {},
   "outputs": [
    {
     "data": {
      "text/plain": [
       "[<matplotlib.lines.Line2D at 0x7fa98ddfef90>]"
      ]
     },
     "execution_count": 18,
     "metadata": {},
     "output_type": "execute_result"
    },
    {
     "data": {
      "image/png": "[encoded data removed]",
      "text/plain": [
       "<Figure size 1440x216 with 1 Axes>"
      ]
     },
     "metadata": {
      "needs_background": "light"
     },
     "output_type": "display_data"
    }
   ],
   "source": [
    "from pylab import rcParams\n",
    "rcParams['figure.figsize'] = 20,10\n",
    "\n",
    "class GradualWarmupSchedulerV2(GradualWarmupScheduler):\n",
    "    def __init__(self, optimizer, multiplier, total_epoch, after_scheduler=None):\n",
    "        super(GradualWarmupSchedulerV2, self).__init__(optimizer, multiplier, total_epoch, after_scheduler)\n",
    "    def get_lr(self):\n",
    "        if self.last_epoch > self.total_epoch:\n",
    "            if self.after_scheduler:\n",
    "                if not self.finished:\n",
    "                    self.after_scheduler.base_lrs = [base_lr * self.multiplier for base_lr in self.base_lrs]\n",
    "                    self.finished = True\n",
    "                return self.after_scheduler.get_lr()\n",
    "            return [base_lr * self.multiplier for base_lr in self.base_lrs]\n",
    "        if self.multiplier == 1.0:\n",
    "            return [base_lr * (float(self.last_epoch) / self.total_epoch) for base_lr in self.base_lrs]\n",
    "        else:\n",
    "            return [base_lr * ((self.multiplier - 1.) * self.last_epoch / self.total_epoch + 1.) for base_lr in self.base_lrs]\n",
    "\n",
    "optimizer = optim.Adam(m.parameters(), lr=init_lr)\n",
    "scheduler_cosine = torch.optim.lr_scheduler.CosineAnnealingLR(optimizer, cosine_epo)\n",
    "scheduler_warmup = GradualWarmupSchedulerV2(optimizer, multiplier=10, total_epoch=warmup_epo, after_scheduler=scheduler_cosine)\n",
    "lrs = []\n",
    "for epoch in range(1, n_epochs+1):\n",
    "    scheduler_warmup.step(epoch-1)\n",
    "    lrs.append(optimizer.param_groups[0][\"lr\"])\n",
    "rcParams['figure.figsize'] = 20,3\n",
    "plt.plot(lrs)"
   ]
  },
  {
   "cell_type": "code",
   "execution_count": 19,
   "id": "4c02aab6",
   "metadata": {},
   "outputs": [],
   "source": [
    "def train_epoch(model, loader, optimizer):\n",
    "\n",
    "    model.train()\n",
    "    train_loss = []\n",
    "    bar = tqdm(loader)\n",
    "    for (data, targets) in bar:\n",
    "\n",
    "        optimizer.zero_grad()\n",
    "        data, targets = data.to(device), targets.to(device)\n",
    "\n",
    "        with amp.autocast():\n",
    "            logits = model(data)\n",
    "            loss = criterion(logits, targets)\n",
    "        scaler.scale(loss).backward() \n",
    "        scaler.step(optimizer)\n",
    "        scaler.update()\n",
    "\n",
    "        loss_np = loss.item()\n",
    "        train_loss.append(loss_np)\n",
    "        smooth_loss = sum(train_loss[-50:]) / min(len(train_loss), 50)\n",
    "        bar.set_description('loss: %.4f, smth: %.4f' % (loss_np, smooth_loss))\n",
    "\n",
    "    return np.mean(train_loss)\n",
    "\n",
    "\n",
    "def valid_epoch(model, loader, get_output=False):\n",
    "\n",
    "    model.eval()\n",
    "    val_loss = []\n",
    "    LOGITS = []\n",
    "    TARGETS = []\n",
    "    with torch.no_grad():\n",
    "        for (data, targets) in tqdm(loader):\n",
    "            data, targets = data.to(device), targets.to(device)\n",
    "            logits = model(data)\n",
    "            loss = criterion(logits, targets)\n",
    "            val_loss.append(loss.item())\n",
    "            LOGITS.append(logits.cpu())\n",
    "            TARGETS.append(targets.cpu())\n",
    "            \n",
    "    val_loss = np.mean(val_loss)\n",
    "    LOGITS = torch.cat(LOGITS)\n",
    "    LOGITS[:, :4] = LOGITS[:, :4].softmax(1)\n",
    "    LOGITS[:, 4:] = LOGITS[:, 4:].sigmoid()\n",
    "    TARGETS = torch.cat(TARGETS).numpy()\n",
    "\n",
    "    if get_output:\n",
    "        return LOGITS\n",
    "    else:\n",
    "        aucs = []\n",
    "        for cid in range(num_classes):\n",
    "            if cid == 3: continue\n",
    "            try:\n",
    "                aucs.append( roc_auc_score(TARGETS[:, cid], LOGITS[:, cid]) )\n",
    "            except:\n",
    "                aucs.append(0.5)\n",
    "        return val_loss, aucs"
   ]
  },
  {
   "cell_type": "code",
   "execution_count": 20,
   "id": "e90c6e33",
   "metadata": {},
   "outputs": [],
   "source": [
    "from sklearn.model_selection import train_test_split\n",
    "X_train,X_val,y_train,y_val = train_test_split(X,y,random_state = 42, test_size = 0.2)"
   ]
  },
  {
   "cell_type": "code",
   "execution_count": 21,
   "id": "0d244c04",
   "metadata": {},
   "outputs": [
    {
     "data": {
      "text/plain": [
       "24066"
      ]
     },
     "execution_count": 21,
     "metadata": {},
     "output_type": "execute_result"
    }
   ],
   "source": [
    "len(X_train)"
   ]
  },
  {
   "cell_type": "code",
   "execution_count": 22,
   "id": "9ddf6eb1",
   "metadata": {},
   "outputs": [
    {
     "data": {
      "text/plain": [
       "6017"
      ]
     },
     "execution_count": 22,
     "metadata": {},
     "output_type": "execute_result"
    }
   ],
   "source": [
    "len(X_val)"
   ]
  },
  {
   "cell_type": "code",
   "execution_count": 24,
   "id": "626152a3",
   "metadata": {},
   "outputs": [
    {
     "name": "stdout",
     "output_type": "stream",
     "text": [
      "Fold: 1\n",
      "Thu Apr 29 04:46:05 2021 Epoch: 1\n"
     ]
    },
    {
     "data": {
      "application/vnd.jupyter.widget-view+json": {
       "model_id": "5f5953aff4a4438d8990f6f59db01c0d",
       "version_major": 2,
       "version_minor": 0
      },
      "text/plain": [
       "  0%|          | 0/1505 [00:00<?, ?it/s]"
      ]
     },
     "metadata": {},
     "output_type": "display_data"
    },
    {
     "data": {
      "application/vnd.jupyter.widget-view+json": {
       "model_id": "218f85a576ec4c8598f4d1dcdda78251",
       "version_major": 2,
       "version_minor": 0
      },
      "text/plain": [
       "  0%|          | 0/377 [00:00<?, ?it/s]"
      ]
     },
     "metadata": {},
     "output_type": "display_data"
    },
    {
     "name": "stdout",
     "output_type": "stream",
     "text": [
      "Thu Apr 29 05:13:53 2021 Fold 1 Epoch 1, lr: 0.0003000, train loss: 0.2357, valid loss: 0.1708, aucs: 0.9326.\n",
      "0.8803 0.9105 0.9808 0.9701 0.9275 0.9737 0.9816 0.8877 0.8419 0.9088 0.9958\n",
      "aucs increased (0.000000 --> 0.932598).  Saving model ...\n",
      "Thu Apr 29 05:13:53 2021 Epoch: 2\n"
     ]
    },
    {
     "data": {
      "application/vnd.jupyter.widget-view+json": {
       "model_id": "912ebe4092404632a029eb369ff28d18",
       "version_major": 2,
       "version_minor": 0
      },
      "text/plain": [
       "  0%|          | 0/1505 [00:00<?, ?it/s]"
      ]
     },
     "metadata": {},
     "output_type": "display_data"
    },
    {
     "data": {
      "application/vnd.jupyter.widget-view+json": {
       "model_id": "85b34f1ba66742ef8a89a4f9541d448c",
       "version_major": 2,
       "version_minor": 0
      },
      "text/plain": [
       "  0%|          | 0/377 [00:00<?, ?it/s]"
      ]
     },
     "metadata": {},
     "output_type": "display_data"
    },
    {
     "name": "stdout",
     "output_type": "stream",
     "text": [
      "Thu Apr 29 05:41:25 2021 Fold 1 Epoch 2, lr: 0.0030000, train loss: 0.2389, valid loss: 0.2111, aucs: 0.9069.\n",
      "0.8350 0.9034 0.9794 0.9247 0.9256 0.9619 0.9794 0.8410 0.7680 0.8595 0.9984\n",
      "Thu Apr 29 05:41:25 2021 Epoch: 3\n"
     ]
    },
    {
     "data": {
      "application/vnd.jupyter.widget-view+json": {
       "model_id": "c3262056547d4dc8b2c24c2292fb8814",
       "version_major": 2,
       "version_minor": 0
      },
      "text/plain": [
       "  0%|          | 0/1505 [00:00<?, ?it/s]"
      ]
     },
     "metadata": {},
     "output_type": "display_data"
    },
    {
     "data": {
      "application/vnd.jupyter.widget-view+json": {
       "model_id": "655bc32f2df74f3298cc04ab36470c92",
       "version_major": 2,
       "version_minor": 0
      },
      "text/plain": [
       "  0%|          | 0/377 [00:00<?, ?it/s]"
      ]
     },
     "metadata": {},
     "output_type": "display_data"
    },
    {
     "name": "stdout",
     "output_type": "stream",
     "text": [
      "Thu Apr 29 06:08:45 2021 Fold 1 Epoch 3, lr: 0.0030000, train loss: 0.2165, valid loss: 0.1737, aucs: 0.9278.\n",
      "0.8660 0.9117 0.9765 0.9539 0.9443 0.9732 0.9792 0.8724 0.8342 0.8978 0.9961\n",
      "Thu Apr 29 06:08:45 2021 Epoch: 4\n"
     ]
    },
    {
     "data": {
      "application/vnd.jupyter.widget-view+json": {
       "model_id": "d89fc004a6a7438e8d90f43efed956fd",
       "version_major": 2,
       "version_minor": 0
      },
      "text/plain": [
       "  0%|          | 0/1505 [00:00<?, ?it/s]"
      ]
     },
     "metadata": {},
     "output_type": "display_data"
    },
    {
     "data": {
      "application/vnd.jupyter.widget-view+json": {
       "model_id": "b54b3fef538e424abf664561c8faaa43",
       "version_major": 2,
       "version_minor": 0
      },
      "text/plain": [
       "  0%|          | 0/377 [00:00<?, ?it/s]"
      ]
     },
     "metadata": {},
     "output_type": "display_data"
    },
    {
     "name": "stdout",
     "output_type": "stream",
     "text": [
      "Thu Apr 29 06:36:10 2021 Fold 1 Epoch 4, lr: 0.0028703, train loss: 0.2067, valid loss: 0.1715, aucs: 0.9286.\n",
      "0.8474 0.9035 0.9798 0.9489 0.9658 0.9788 0.9824 0.8765 0.8336 0.9021 0.9957\n",
      "Thu Apr 29 06:36:10 2021 Epoch: 5\n"
     ]
    },
    {
     "data": {
      "application/vnd.jupyter.widget-view+json": {
       "model_id": "ee2d304962c7450987ce3f73f7a9b488",
       "version_major": 2,
       "version_minor": 0
      },
      "text/plain": [
       "  0%|          | 0/1505 [00:00<?, ?it/s]"
      ]
     },
     "metadata": {},
     "output_type": "display_data"
    },
    {
     "data": {
      "application/vnd.jupyter.widget-view+json": {
       "model_id": "762204bbee5e4514ba603541ec745a3b",
       "version_major": 2,
       "version_minor": 0
      },
      "text/plain": [
       "  0%|          | 0/377 [00:00<?, ?it/s]"
      ]
     },
     "metadata": {},
     "output_type": "display_data"
    },
    {
     "name": "stdout",
     "output_type": "stream",
     "text": [
      "Thu Apr 29 07:03:21 2021 Fold 1 Epoch 5, lr: 0.0027135, train loss: 0.2013, valid loss: 0.1751, aucs: 0.9393.\n",
      "0.8942 0.9146 0.9807 0.9752 0.9661 0.9780 0.9828 0.8858 0.8482 0.9084 0.9980\n",
      "aucs increased (0.932598 --> 0.939282).  Saving model ...\n",
      "Thu Apr 29 07:03:22 2021 Epoch: 6\n"
     ]
    },
    {
     "data": {
      "application/vnd.jupyter.widget-view+json": {
       "model_id": "043a691b92ee4d0f9698d3775ceeb3c4",
       "version_major": 2,
       "version_minor": 0
      },
      "text/plain": [
       "  0%|          | 0/1505 [00:00<?, ?it/s]"
      ]
     },
     "metadata": {},
     "output_type": "display_data"
    },
    {
     "data": {
      "application/vnd.jupyter.widget-view+json": {
       "model_id": "582d89f97afb46f980695d5fb956a7f3",
       "version_major": 2,
       "version_minor": 0
      },
      "text/plain": [
       "  0%|          | 0/377 [00:00<?, ?it/s]"
      ]
     },
     "metadata": {},
     "output_type": "display_data"
    },
    {
     "name": "stdout",
     "output_type": "stream",
     "text": [
      "Thu Apr 29 07:30:39 2021 Fold 1 Epoch 6, lr: 0.0025037, train loss: 0.1948, valid loss: 0.1886, aucs: 0.9350.\n",
      "0.9244 0.9294 0.9842 0.9738 0.9703 0.9774 0.9861 0.8697 0.8058 0.8675 0.9967\n",
      "Thu Apr 29 07:30:39 2021 Epoch: 7\n"
     ]
    },
    {
     "data": {
      "application/vnd.jupyter.widget-view+json": {
       "model_id": "9d6fce2076b44533a447577f51af328f",
       "version_major": 2,
       "version_minor": 0
      },
      "text/plain": [
       "  0%|          | 0/1505 [00:00<?, ?it/s]"
      ]
     },
     "metadata": {},
     "output_type": "display_data"
    },
    {
     "data": {
      "application/vnd.jupyter.widget-view+json": {
       "model_id": "b7897b2eb4c74e5a8904174d7519be5f",
       "version_major": 2,
       "version_minor": 0
      },
      "text/plain": [
       "  0%|          | 0/377 [00:00<?, ?it/s]"
      ]
     },
     "metadata": {},
     "output_type": "display_data"
    },
    {
     "name": "stdout",
     "output_type": "stream",
     "text": [
      "Thu Apr 29 07:57:59 2021 Fold 1 Epoch 7, lr: 0.0022500, train loss: 0.1902, valid loss: 0.1587, aucs: 0.9432.\n",
      "0.8884 0.9288 0.9841 0.9748 0.9702 0.9815 0.9871 0.9010 0.8559 0.9083 0.9951\n",
      "aucs increased (0.939282 --> 0.943207).  Saving model ...\n",
      "Thu Apr 29 07:58:00 2021 Epoch: 8\n"
     ]
    },
    {
     "data": {
      "application/vnd.jupyter.widget-view+json": {
       "model_id": "19131845acd047e8b9e2bce7994c7fce",
       "version_major": 2,
       "version_minor": 0
      },
      "text/plain": [
       "  0%|          | 0/1505 [00:00<?, ?it/s]"
      ]
     },
     "metadata": {},
     "output_type": "display_data"
    },
    {
     "data": {
      "application/vnd.jupyter.widget-view+json": {
       "model_id": "06854a34e87a4476ae39bf63d69a9b91",
       "version_major": 2,
       "version_minor": 0
      },
      "text/plain": [
       "  0%|          | 0/377 [00:00<?, ?it/s]"
      ]
     },
     "metadata": {},
     "output_type": "display_data"
    },
    {
     "name": "stdout",
     "output_type": "stream",
     "text": [
      "Thu Apr 29 08:25:30 2021 Fold 1 Epoch 8, lr: 0.0019635, train loss: 0.1834, valid loss: 0.1587, aucs: 0.9477.\n",
      "0.9299 0.9335 0.9856 0.9753 0.9748 0.9825 0.9854 0.8921 0.8580 0.9105 0.9973\n",
      "aucs increased (0.943207 --> 0.947712).  Saving model ...\n",
      "Thu Apr 29 08:25:30 2021 Epoch: 9\n"
     ]
    },
    {
     "data": {
      "application/vnd.jupyter.widget-view+json": {
       "model_id": "4cbfa2c0abd348698e7e2801a4e77d71",
       "version_major": 2,
       "version_minor": 0
      },
      "text/plain": [
       "  0%|          | 0/1505 [00:00<?, ?it/s]"
      ]
     },
     "metadata": {},
     "output_type": "display_data"
    },
    {
     "data": {
      "application/vnd.jupyter.widget-view+json": {
       "model_id": "565d73d01c0b451eb68cf83d8aea3cb8",
       "version_major": 2,
       "version_minor": 0
      },
      "text/plain": [
       "  0%|          | 0/377 [00:00<?, ?it/s]"
      ]
     },
     "metadata": {},
     "output_type": "display_data"
    },
    {
     "name": "stdout",
     "output_type": "stream",
     "text": [
      "Thu Apr 29 08:52:48 2021 Fold 1 Epoch 9, lr: 0.0016568, train loss: 0.1806, valid loss: 0.1514, aucs: 0.9497.\n",
      "0.9333 0.9332 0.9852 0.9708 0.9755 0.9828 0.9873 0.8982 0.8655 0.9181 0.9969\n",
      "aucs increased (0.947712 --> 0.949704).  Saving model ...\n",
      "Thu Apr 29 08:52:48 2021 Epoch: 10\n"
     ]
    },
    {
     "data": {
      "application/vnd.jupyter.widget-view+json": {
       "model_id": "34976e8fa164463f9aefb045bf2448c0",
       "version_major": 2,
       "version_minor": 0
      },
      "text/plain": [
       "  0%|          | 0/1505 [00:00<?, ?it/s]"
      ]
     },
     "metadata": {},
     "output_type": "display_data"
    },
    {
     "data": {
      "application/vnd.jupyter.widget-view+json": {
       "model_id": "0d421c37a621461580b256359c885e36",
       "version_major": 2,
       "version_minor": 0
      },
      "text/plain": [
       "  0%|          | 0/377 [00:00<?, ?it/s]"
      ]
     },
     "metadata": {},
     "output_type": "display_data"
    },
    {
     "name": "stdout",
     "output_type": "stream",
     "text": [
      "Thu Apr 29 09:20:02 2021 Fold 1 Epoch 10, lr: 0.0013432, train loss: 0.1753, valid loss: 0.1471, aucs: 0.9551.\n",
      "0.9394 0.9502 0.9883 0.9798 0.9774 0.9840 0.9870 0.9121 0.8715 0.9215 0.9947\n",
      "aucs increased (0.949704 --> 0.955085).  Saving model ...\n",
      "Thu Apr 29 09:20:03 2021 Epoch: 11\n"
     ]
    },
    {
     "data": {
      "application/vnd.jupyter.widget-view+json": {
       "model_id": "ebd9f88e5e5341a2b16375f698795853",
       "version_major": 2,
       "version_minor": 0
      },
      "text/plain": [
       "  0%|          | 0/1505 [00:00<?, ?it/s]"
      ]
     },
     "metadata": {},
     "output_type": "display_data"
    },
    {
     "data": {
      "application/vnd.jupyter.widget-view+json": {
       "model_id": "54132c3c4d0744ebb5fec76752ad7881",
       "version_major": 2,
       "version_minor": 0
      },
      "text/plain": [
       "  0%|          | 0/377 [00:00<?, ?it/s]"
      ]
     },
     "metadata": {},
     "output_type": "display_data"
    },
    {
     "name": "stdout",
     "output_type": "stream",
     "text": [
      "Thu Apr 29 09:47:20 2021 Fold 1 Epoch 11, lr: 0.0010365, train loss: 0.1697, valid loss: 0.1455, aucs: 0.9559.\n",
      "0.9494 0.9473 0.9879 0.9810 0.9796 0.9834 0.9881 0.9082 0.8730 0.9204 0.9963\n",
      "aucs increased (0.955085 --> 0.955872).  Saving model ...\n",
      "Thu Apr 29 09:47:21 2021 Epoch: 12\n"
     ]
    },
    {
     "data": {
      "application/vnd.jupyter.widget-view+json": {
       "model_id": "cd6d16c1712c48118176530ea68d0b37",
       "version_major": 2,
       "version_minor": 0
      },
      "text/plain": [
       "  0%|          | 0/1505 [00:00<?, ?it/s]"
      ]
     },
     "metadata": {},
     "output_type": "display_data"
    },
    {
     "data": {
      "application/vnd.jupyter.widget-view+json": {
       "model_id": "2eb64cffa52f42bfbfa6e6b27170d724",
       "version_major": 2,
       "version_minor": 0
      },
      "text/plain": [
       "  0%|          | 0/377 [00:00<?, ?it/s]"
      ]
     },
     "metadata": {},
     "output_type": "display_data"
    },
    {
     "name": "stdout",
     "output_type": "stream",
     "text": [
      "Thu Apr 29 10:14:46 2021 Fold 1 Epoch 12, lr: 0.0007500, train loss: 0.1660, valid loss: 0.1542, aucs: 0.9558.\n",
      "0.9517 0.9499 0.9884 0.9812 0.9776 0.9828 0.9869 0.9134 0.8670 0.9171 0.9979\n",
      "Thu Apr 29 10:14:46 2021 Epoch: 13\n"
     ]
    },
    {
     "data": {
      "application/vnd.jupyter.widget-view+json": {
       "model_id": "e4e5468e6b6248eaab22a209aa697467",
       "version_major": 2,
       "version_minor": 0
      },
      "text/plain": [
       "  0%|          | 0/1505 [00:00<?, ?it/s]"
      ]
     },
     "metadata": {},
     "output_type": "display_data"
    },
    {
     "data": {
      "application/vnd.jupyter.widget-view+json": {
       "model_id": "421bca1f21f04fc7a043951feea049c2",
       "version_major": 2,
       "version_minor": 0
      },
      "text/plain": [
       "  0%|          | 0/377 [00:00<?, ?it/s]"
      ]
     },
     "metadata": {},
     "output_type": "display_data"
    },
    {
     "name": "stdout",
     "output_type": "stream",
     "text": [
      "Thu Apr 29 10:42:07 2021 Fold 1 Epoch 13, lr: 0.0004963, train loss: 0.1610, valid loss: 0.1417, aucs: 0.9580.\n",
      "0.9466 0.9528 0.9889 0.9825 0.9805 0.9834 0.9880 0.9168 0.8757 0.9257 0.9968\n",
      "aucs increased (0.955872 --> 0.957964).  Saving model ...\n",
      "Thu Apr 29 10:42:07 2021 Epoch: 14\n"
     ]
    },
    {
     "data": {
      "application/vnd.jupyter.widget-view+json": {
       "model_id": "fa5a9fa77b594294bc2cee7692f01914",
       "version_major": 2,
       "version_minor": 0
      },
      "text/plain": [
       "  0%|          | 0/1505 [00:00<?, ?it/s]"
      ]
     },
     "metadata": {},
     "output_type": "display_data"
    },
    {
     "data": {
      "application/vnd.jupyter.widget-view+json": {
       "model_id": "cbda4f323ded46228c9154e1b1b3fe1d",
       "version_major": 2,
       "version_minor": 0
      },
      "text/plain": [
       "  0%|          | 0/377 [00:00<?, ?it/s]"
      ]
     },
     "metadata": {},
     "output_type": "display_data"
    },
    {
     "name": "stdout",
     "output_type": "stream",
     "text": [
      "Thu Apr 29 11:09:23 2021 Fold 1 Epoch 14, lr: 0.0002865, train loss: 0.1577, valid loss: 0.1413, aucs: 0.9589.\n",
      "0.9446 0.9547 0.9892 0.9838 0.9801 0.9828 0.9882 0.9206 0.8792 0.9282 0.9971\n",
      "aucs increased (0.957964 --> 0.958946).  Saving model ...\n",
      "Thu Apr 29 11:09:24 2021 Epoch: 15\n"
     ]
    },
    {
     "data": {
      "application/vnd.jupyter.widget-view+json": {
       "model_id": "ed06c161a8624ce48d065013ada42960",
       "version_major": 2,
       "version_minor": 0
      },
      "text/plain": [
       "  0%|          | 0/1505 [00:00<?, ?it/s]"
      ]
     },
     "metadata": {},
     "output_type": "display_data"
    },
    {
     "data": {
      "application/vnd.jupyter.widget-view+json": {
       "model_id": "347de7926b1a46deb5eee836dc92c24b",
       "version_major": 2,
       "version_minor": 0
      },
      "text/plain": [
       "  0%|          | 0/377 [00:00<?, ?it/s]"
      ]
     },
     "metadata": {},
     "output_type": "display_data"
    },
    {
     "name": "stdout",
     "output_type": "stream",
     "text": [
      "Thu Apr 29 11:36:44 2021 Fold 1 Epoch 15, lr: 0.0001297, train loss: 0.1561, valid loss: 0.1400, aucs: 0.9593.\n",
      "0.9479 0.9551 0.9893 0.9827 0.9803 0.9840 0.9883 0.9194 0.8797 0.9283 0.9969\n",
      "aucs increased (0.958946 --> 0.959271).  Saving model ...\n",
      "Thu Apr 29 11:36:44 2021 Epoch: 16\n"
     ]
    },
    {
     "data": {
      "application/vnd.jupyter.widget-view+json": {
       "model_id": "bd8492458cfe401683326881a120f32e",
       "version_major": 2,
       "version_minor": 0
      },
      "text/plain": [
       "  0%|          | 0/1505 [00:00<?, ?it/s]"
      ]
     },
     "metadata": {},
     "output_type": "display_data"
    },
    {
     "data": {
      "application/vnd.jupyter.widget-view+json": {
       "model_id": "3dae84a06f28429cb26cb3bd0ea4e1b1",
       "version_major": 2,
       "version_minor": 0
      },
      "text/plain": [
       "  0%|          | 0/377 [00:00<?, ?it/s]"
      ]
     },
     "metadata": {},
     "output_type": "display_data"
    },
    {
     "name": "stdout",
     "output_type": "stream",
     "text": [
      "Thu Apr 29 12:04:27 2021 Fold 1 Epoch 16, lr: 0.0000328, train loss: 0.1540, valid loss: 0.1393, aucs: 0.9597.\n",
      "0.9473 0.9555 0.9893 0.9837 0.9810 0.9841 0.9884 0.9205 0.8809 0.9292 0.9972\n",
      "aucs increased (0.959271 --> 0.959737).  Saving model ...\n"
     ]
    }
   ],
   "source": [
    "fold = 1 \n",
    "content = 'Fold: ' + str(fold)\n",
    "print(content)\n",
    "with open(log_file, 'a') as appender:\n",
    "    appender.write(content + '\\n')\n",
    "dataset_train = RANZCRDatasetCLS(X_train,y_train, 'train', transform=transforms_train)\n",
    "dataset_valid = RANZCRDatasetCLS(X_val,y_val, 'valid', transform=transforms_val)\n",
    "train_loader = torch.utils.data.DataLoader(dataset_train, batch_size=batch_size, shuffle=True, num_workers=num_workers)\n",
    "valid_loader = torch.utils.data.DataLoader(dataset_valid, batch_size=batch_size, shuffle=False, num_workers=num_workers)\n",
    "\n",
    "model = enetv2(enet_type, num_classes)\n",
    "model = model.to(device)\n",
    "aucs_max = 0\n",
    "model_file = os.path.join(model_dir, f'{kernel_type}_best_fold{fold}.pth')\n",
    "\n",
    "optimizer = optim.Adam(model.parameters(), lr=init_lr)\n",
    "scheduler_cosine = torch.optim.lr_scheduler.CosineAnnealingLR(optimizer, cosine_epo)\n",
    "scheduler_warmup = GradualWarmupSchedulerV2(optimizer, multiplier=10, total_epoch=warmup_epo, after_scheduler=scheduler_cosine)\n",
    "for epoch in range(1, n_epochs+1):\n",
    "    print(time.ctime(), 'Epoch:', epoch)\n",
    "    scheduler_warmup.step(epoch-1)\n",
    "\n",
    "    train_loss = train_epoch(model, train_loader, optimizer)\n",
    "    val_loss, aucs = valid_epoch(model, valid_loader)\n",
    "\n",
    "    content = time.ctime() + ' ' + f'Fold {fold} Epoch {epoch}, lr: {optimizer.param_groups[0][\"lr\"]:.7f}, train loss: {train_loss:.4f}, valid loss: {(val_loss):.4f}, aucs: {np.mean(aucs):.4f}.'\n",
    "    content += '\\n' + ' '.join([f'{x:.4f}' for x in aucs])\n",
    "    print(content)\n",
    "    with open(log_file, 'a') as appender:\n",
    "        appender.write(content + '\\n')\n",
    "\n",
    "    if aucs_max < np.mean(aucs):\n",
    "        print('aucs increased ({:.6f} --> {:.6f}).  Saving model ...'.format(aucs_max, np.mean(aucs)))\n",
    "        torch.save(model.state_dict(), model_file)\n",
    "        aucs_max = np.mean(aucs)\n",
    "\n",
    "torch.save(model.state_dict(), os.path.join(model_dir, f'{kernel_type}_model_fold{fold}.pth'))"
   ]
  },
  {
   "cell_type": "code",
   "execution_count": null,
   "id": "7a02e9fd",
   "metadata": {},
   "outputs": [],
   "source": []
  }
 ],
 "metadata": {
  "environment": {
   "name": "pytorch-gpu.1-8.m65",
   "type": "gcloud",
   "uri": "gcr.io/deeplearning-platform-release/pytorch-gpu.1-8:m65"
  },
  "kernelspec": {
   "display_name": "Python 3",
   "language": "python",
   "name": "python3"
  },
  "language_info": {
   "codemirror_mode": {
    "name": "ipython",
    "version": 3
   },
   "file_extension": ".py",
   "mimetype": "text/x-python",
   "name": "python",
   "nbconvert_exporter": "python",
   "pygments_lexer": "ipython3",
   "version": "3.7.10"
  }
 },
 "nbformat": 4,
 "nbformat_minor": 5
}
